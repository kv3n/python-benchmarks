{
  "cells": [
    {
      "metadata": {
        "trusted": true
      },
      "cell_type": "code",
      "source": "class Test:\n    def __init__(self):\n        self.i = 0\n        self.up = 1\n    \n    def member_var_update(self):\n        self.i += self.up\n    \n    def function_param_update(self, up):\n        self.i += up\n    \n    def cache_member_var_update(self, times):\n        up = self.up\n        for _ in xrange(times):\n            self.i += up\n            \n    def non_cache_member_var_update(self, times):\n        for _ in xrange(times):\n            self.i += self.up",
      "execution_count": 4,
      "outputs": []
    },
    {
      "metadata": {
        "trusted": true
      },
      "cell_type": "code",
      "source": "def perform_member_var_update(times):\n    test = Test()\n    for _ in xrange(times):\n        test.member_var_update()",
      "execution_count": 5,
      "outputs": []
    },
    {
      "metadata": {
        "trusted": true
      },
      "cell_type": "code",
      "source": "def perform_function_var_update(times):\n    test = Test()\n    for _ in xrange(times):\n        test.function_param_update(up=1)",
      "execution_count": 6,
      "outputs": []
    },
    {
      "metadata": {
        "trusted": true
      },
      "cell_type": "code",
      "source": "def perform_cache_member_var_update(times):\n    test = Test()\n    test.cache_member_var_update(times)",
      "execution_count": 7,
      "outputs": []
    },
    {
      "metadata": {
        "trusted": true
      },
      "cell_type": "code",
      "source": "def perform_non_cache_member_var_update(times):\n    test = Test()\n    test.non_cache_member_var_update(times)",
      "execution_count": 8,
      "outputs": []
    },
    {
      "metadata": {
        "trusted": true
      },
      "cell_type": "code",
      "source": "times = 1000",
      "execution_count": 9,
      "outputs": []
    },
    {
      "metadata": {
        "trusted": true
      },
      "cell_type": "code",
      "source": "%timeit perform_member_var_update(times)",
      "execution_count": 10,
      "outputs": [
        {
          "output_type": "stream",
          "text": "The slowest run took 15.18 times longer than the fastest. This could mean that an intermediate result is being cached.\n1000 loops, best of 3: 352 µs per loop\n",
          "name": "stdout"
        }
      ]
    },
    {
      "metadata": {
        "trusted": true
      },
      "cell_type": "code",
      "source": "%timeit perform_function_var_update(times)",
      "execution_count": 11,
      "outputs": [
        {
          "output_type": "stream",
          "text": "1000 loops, best of 3: 368 µs per loop\n",
          "name": "stdout"
        }
      ]
    },
    {
      "metadata": {
        "trusted": true
      },
      "cell_type": "code",
      "source": "%timeit perform_cache_member_var_update(times)",
      "execution_count": 12,
      "outputs": [
        {
          "output_type": "stream",
          "text": "The slowest run took 9.30 times longer than the fastest. This could mean that an intermediate result is being cached.\n10000 loops, best of 3: 132 µs per loop\n",
          "name": "stdout"
        }
      ]
    },
    {
      "metadata": {
        "trusted": true
      },
      "cell_type": "code",
      "source": "%timeit perform_non_cache_member_var_update(times)",
      "execution_count": 13,
      "outputs": [
        {
          "output_type": "stream",
          "text": "1000 loops, best of 3: 168 µs per loop\n",
          "name": "stdout"
        }
      ]
    },
    {
      "metadata": {
        "trusted": true
      },
      "cell_type": "code",
      "source": "",
      "execution_count": null,
      "outputs": []
    }
  ],
  "metadata": {
    "kernelspec": {
      "name": "python2",
      "display_name": "Python 2",
      "language": "python"
    },
    "language_info": {
      "mimetype": "text/x-python",
      "nbconvert_exporter": "python",
      "name": "python",
      "pygments_lexer": "ipython2",
      "version": "2.7.15",
      "file_extension": ".py",
      "codemirror_mode": {
        "version": 2,
        "name": "ipython"
      }
    }
  },
  "nbformat": 4,
  "nbformat_minor": 2
}