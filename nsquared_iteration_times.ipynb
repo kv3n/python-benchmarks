{
  "cells": [
    {
      "metadata": {
        "trusted": true
      },
      "cell_type": "code",
      "source": "def do_nsquared(size):\n    i = 0\n    for x in xrange(size):\n        for y in xrange(size):\n            i += 1",
      "execution_count": 1,
      "outputs": []
    },
    {
      "metadata": {
        "trusted": true
      },
      "cell_type": "code",
      "source": "%timeit do_nsquared(125)",
      "execution_count": 2,
      "outputs": [
        {
          "output_type": "stream",
          "text": "1000 loops, best of 3: 631 µs per loop\n",
          "name": "stdout"
        }
      ]
    },
    {
      "metadata": {
        "trusted": true
      },
      "cell_type": "code",
      "source": "%timeit do_nsquared(500)",
      "execution_count": 3,
      "outputs": [
        {
          "output_type": "stream",
          "text": "100 loops, best of 3: 9.48 ms per loop\n",
          "name": "stdout"
        }
      ]
    },
    {
      "metadata": {
        "trusted": true
      },
      "cell_type": "code",
      "source": "timeit do_nsquared(1000)",
      "execution_count": 4,
      "outputs": [
        {
          "output_type": "stream",
          "text": "10 loops, best of 3: 37.4 ms per loop\n",
          "name": "stdout"
        }
      ]
    },
    {
      "metadata": {
        "trusted": true
      },
      "cell_type": "code",
      "source": "",
      "execution_count": null,
      "outputs": []
    }
  ],
  "metadata": {
    "kernelspec": {
      "name": "python2",
      "display_name": "Python 2",
      "language": "python"
    },
    "language_info": {
      "mimetype": "text/x-python",
      "nbconvert_exporter": "python",
      "name": "python",
      "pygments_lexer": "ipython2",
      "version": "2.7.15",
      "file_extension": ".py",
      "codemirror_mode": {
        "version": 2,
        "name": "ipython"
      }
    }
  },
  "nbformat": 4,
  "nbformat_minor": 2
}