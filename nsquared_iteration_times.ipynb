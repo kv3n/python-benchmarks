{
  "nbformat": 4,
  "nbformat_minor": 0,
  "metadata": {
    "colab": {
      "name": "nsquared_iteration_times.ipynb",
      "version": "0.3.2",
      "provenance": [],
      "include_colab_link": true
    },
    "language_info": {
      "mimetype": "text/x-python",
      "nbconvert_exporter": "python",
      "name": "python",
      "pygments_lexer": "ipython2",
      "version": "2.7.15",
      "file_extension": ".py",
      "codemirror_mode": {
        "version": 2,
        "name": "ipython"
      }
    },
    "kernelspec": {
      "name": "python2",
      "display_name": "Python 2",
      "language": "python"
    }
  },
  "cells": [
    {
      "cell_type": "markdown",
      "metadata": {
        "id": "view-in-github",
        "colab_type": "text"
      },
      "source": [
        "<a href=\"https://colab.research.google.com/github/kv3n/python-benchmarks/blob/master/nsquared_iteration_times.ipynb\" target=\"_parent\"><img src=\"https://colab.research.google.com/assets/colab-badge.svg\" alt=\"Open In Colab\"/></a>"
      ]
    },
    {
      "metadata": {
        "trusted": true,
        "id": "zcGh32oam-vS",
        "colab_type": "code",
        "colab": {}
      },
      "cell_type": "code",
      "source": [
        "def do_nsquared(size):\n",
        "    i = 0\n",
        "    for x in xrange(size):\n",
        "        for y in xrange(size):\n",
        "            i += 1"
      ],
      "execution_count": 0,
      "outputs": []
    },
    {
      "metadata": {
        "trusted": true,
        "id": "aSxTIInpm-vX",
        "colab_type": "code",
        "colab": {},
        "outputId": "f16175a4-e6b7-4011-c5ff-ff6a0f8adff4"
      },
      "cell_type": "code",
      "source": [
        "%timeit do_nsquared(125)"
      ],
      "execution_count": 0,
      "outputs": [
        {
          "output_type": "stream",
          "text": [
            "1000 loops, best of 3: 631 µs per loop\n"
          ],
          "name": "stdout"
        }
      ]
    },
    {
      "metadata": {
        "trusted": true,
        "id": "uFKEp8LAm-vc",
        "colab_type": "code",
        "colab": {},
        "outputId": "73f7ab65-8522-4c4a-ad84-4faa886519a7"
      },
      "cell_type": "code",
      "source": [
        "%timeit do_nsquared(500)"
      ],
      "execution_count": 0,
      "outputs": [
        {
          "output_type": "stream",
          "text": [
            "100 loops, best of 3: 9.48 ms per loop\n"
          ],
          "name": "stdout"
        }
      ]
    },
    {
      "metadata": {
        "trusted": true,
        "id": "e5buqcjRm-vf",
        "colab_type": "code",
        "colab": {},
        "outputId": "99ef372b-9637-4b53-b13a-4a1ebf004a8a"
      },
      "cell_type": "code",
      "source": [
        "timeit do_nsquared(1000)"
      ],
      "execution_count": 0,
      "outputs": [
        {
          "output_type": "stream",
          "text": [
            "10 loops, best of 3: 37.4 ms per loop\n"
          ],
          "name": "stdout"
        }
      ]
    },
    {
      "metadata": {
        "trusted": true,
        "id": "gqUSVRHLm-vj",
        "colab_type": "code",
        "colab": {}
      },
      "cell_type": "code",
      "source": [
        ""
      ],
      "execution_count": 0,
      "outputs": []
    }
  ]
}