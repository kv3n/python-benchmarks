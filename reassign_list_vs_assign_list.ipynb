{
  "cells": [
    {
      "metadata": {
        "trusted": true
      },
      "cell_type": "code",
      "source": "class Test:\n    def __init__(self):\n        self.a = [0.0, 1.0]\n    \n    def do_list_reassign(self):\n        self.a[0] = 1.0\n        self.a[1] = 2.0\n    \n    def do_list_assign(self):\n        self.a = [1.0, 2.0]",
      "execution_count": 1,
      "outputs": []
    },
    {
      "metadata": {
        "trusted": true
      },
      "cell_type": "code",
      "source": "def do_list_reassign(times):\n    test = Test()\n    for _ in xrange(times):\n        test.do_list_reassign()",
      "execution_count": 2,
      "outputs": []
    },
    {
      "metadata": {
        "trusted": true
      },
      "cell_type": "code",
      "source": "def do_list_assign(times):\n    test = Test()\n    for _ in xrange(times):\n        test.do_list_assign()",
      "execution_count": 3,
      "outputs": []
    },
    {
      "metadata": {
        "trusted": true
      },
      "cell_type": "code",
      "source": "times = 1000000",
      "execution_count": 7,
      "outputs": []
    },
    {
      "metadata": {
        "trusted": true
      },
      "cell_type": "code",
      "source": "%timeit do_list_reassign(times)",
      "execution_count": 8,
      "outputs": [
        {
          "output_type": "stream",
          "text": "1 loop, best of 3: 659 ms per loop\n",
          "name": "stdout"
        }
      ]
    },
    {
      "metadata": {
        "trusted": true
      },
      "cell_type": "code",
      "source": "%timeit do_list_assign(times)",
      "execution_count": 9,
      "outputs": [
        {
          "output_type": "stream",
          "text": "1 loop, best of 3: 673 ms per loop\n",
          "name": "stdout"
        }
      ]
    },
    {
      "metadata": {
        "trusted": true
      },
      "cell_type": "code",
      "source": "",
      "execution_count": null,
      "outputs": []
    }
  ],
  "metadata": {
    "kernelspec": {
      "name": "python2",
      "display_name": "Python 2",
      "language": "python"
    },
    "language_info": {
      "mimetype": "text/x-python",
      "nbconvert_exporter": "python",
      "name": "python",
      "pygments_lexer": "ipython2",
      "version": "2.7.15",
      "file_extension": ".py",
      "codemirror_mode": {
        "version": 2,
        "name": "ipython"
      }
    }
  },
  "nbformat": 4,
  "nbformat_minor": 2
}