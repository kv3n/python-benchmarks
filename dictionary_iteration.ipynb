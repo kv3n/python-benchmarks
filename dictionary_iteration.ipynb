{
  "metadata": {
    "language_info": {
      "mimetype": "text/x-python",
      "nbconvert_exporter": "python",
      "name": "python",
      "pygments_lexer": "ipython2",
      "version": "2.7.15",
      "file_extension": ".py",
      "codemirror_mode": {
        "version": 2,
        "name": "ipython"
      }
    },
    "kernelspec": {
      "name": "python2",
      "display_name": "Python 2",
      "language": "python"
    }
  },
  "nbformat_minor": 2,
  "nbformat": 4,
  "cells": [
    {
      "cell_type": "code",
      "source": "def iteritemsdict(a):\n    for key, value in a.iteritems():\n        a[key] = value\n        \ndef itemsdict(a):\n    for key in a.items():\n        a[key] = 1\n        \ndef defaultiterdict(a):\n    for key in a:\n        a[key] = 2",
      "metadata": {
        "trusted": true
      },
      "execution_count": 1,
      "outputs": []
    },
    {
      "cell_type": "code",
      "source": "a = dict(zip(xrange(10000), xrange(10000)))",
      "metadata": {
        "trusted": true
      },
      "execution_count": 2,
      "outputs": []
    },
    {
      "cell_type": "code",
      "source": "%timeit iteritemsdict(a)",
      "metadata": {
        "trusted": true
      },
      "execution_count": 3,
      "outputs": [
        {
          "text": "1000 loops, best of 3: 1.18 ms per loop\n",
          "name": "stdout",
          "output_type": "stream"
        }
      ]
    },
    {
      "cell_type": "code",
      "source": "%timeit itemsdict(a)",
      "metadata": {
        "trusted": true
      },
      "execution_count": 4,
      "outputs": [
        {
          "text": "The slowest run took 4.27 times longer than the fastest. This could mean that an intermediate result is being cached.\n10 loops, best of 3: 313 ms per loop\n",
          "name": "stdout",
          "output_type": "stream"
        }
      ]
    },
    {
      "cell_type": "code",
      "source": "%timeit defaultiterdict(a)",
      "metadata": {
        "trusted": true
      },
      "execution_count": 5,
      "outputs": [
        {
          "text": "1 loop, best of 3: 1.09 s per loop\n",
          "name": "stdout",
          "output_type": "stream"
        }
      ]
    },
    {
      "cell_type": "code",
      "source": "",
      "metadata": {},
      "execution_count": null,
      "outputs": []
    }
  ]
}