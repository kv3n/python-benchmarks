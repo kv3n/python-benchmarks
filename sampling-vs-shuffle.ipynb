{
  "cells": [
    {
      "metadata": {
        "trusted": true
      },
      "cell_type": "code",
      "source": "import random",
      "execution_count": 7,
      "outputs": []
    },
    {
      "metadata": {
        "trusted": true
      },
      "cell_type": "code",
      "source": "def sample(seq, k, times):\n    for _ in xrange(times):\n        i = 0\n        for _ in random.sample(seq, k):\n            i += 1",
      "execution_count": 8,
      "outputs": []
    },
    {
      "metadata": {
        "trusted": true
      },
      "cell_type": "code",
      "source": "def shuffle(seq, k, times):\n    num = len(seq) // k\n    offset = 0\n    time = 0\n    \n    while time < times:\n        if random.random() < 0.01:\n            offset = 0\n            random.shuffle(seq)\n        \n        i = 0\n        for _ in seq[offset:offset+k]:\n            i += 1\n            \n        offset += k\n        time += 1",
      "execution_count": 33,
      "outputs": []
    },
    {
      "metadata": {
        "trusted": true
      },
      "cell_type": "code",
      "source": "seq = range(100*100)",
      "execution_count": 18,
      "outputs": []
    },
    {
      "metadata": {
        "trusted": true
      },
      "cell_type": "code",
      "source": "times = 100",
      "execution_count": 19,
      "outputs": []
    },
    {
      "metadata": {
        "trusted": true
      },
      "cell_type": "code",
      "source": "k = 100",
      "execution_count": 20,
      "outputs": []
    },
    {
      "metadata": {
        "trusted": true
      },
      "cell_type": "code",
      "source": "%timeit sample(seq, k, times)",
      "execution_count": 21,
      "outputs": [
        {
          "output_type": "stream",
          "text": "100 loops, best of 3: 12.2 ms per loop\n",
          "name": "stdout"
        }
      ]
    },
    {
      "metadata": {
        "trusted": true
      },
      "cell_type": "code",
      "source": "%timeit shuffle(seq, k, times)",
      "execution_count": 34,
      "outputs": [
        {
          "output_type": "stream",
          "text": "100 loops, best of 3: 10 ms per loop\n",
          "name": "stdout"
        }
      ]
    },
    {
      "metadata": {
        "trusted": true
      },
      "cell_type": "code",
      "source": "",
      "execution_count": null,
      "outputs": []
    }
  ],
  "metadata": {
    "kernelspec": {
      "name": "python2",
      "display_name": "Python 2",
      "language": "python"
    },
    "language_info": {
      "mimetype": "text/x-python",
      "nbconvert_exporter": "python",
      "name": "python",
      "pygments_lexer": "ipython2",
      "version": "2.7.15",
      "file_extension": ".py",
      "codemirror_mode": {
        "version": 2,
        "name": "ipython"
      }
    }
  },
  "nbformat": 4,
  "nbformat_minor": 2
}